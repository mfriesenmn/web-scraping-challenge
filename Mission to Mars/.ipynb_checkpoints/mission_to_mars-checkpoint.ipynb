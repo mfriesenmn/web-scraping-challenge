{
 "cells": [
  {
   "cell_type": "code",
   "execution_count": null,
   "metadata": {},
   "outputs": [],
   "source": [
    "# Dependencies\n",
    "from bs4 import BeautifulSoup as soup\n",
    "from splinter import Browser\n",
    "import requests\n",
    "import pymongo\n",
    "import pandas as pd\n",
    "from webdriver_manager.chrome import ChromeDriverManager"
   ]
  },
  {
   "cell_type": "code",
   "execution_count": null,
   "metadata": {},
   "outputs": [],
   "source": [
    "executable_path = {'executable_path': ChromeDriverManager().install()}\n",
    "browser = Browser('chrome', **executable_path, headless=False)"
   ]
  },
  {
   "cell_type": "code",
   "execution_count": null,
   "metadata": {},
   "outputs": [],
   "source": [
    "#Define a function to perform the repeated calls for \n",
    "def retrievehtml(url, target):\n",
    "    browser.visit(url)\n",
    "    html = browser.html\n",
    "    html_soup = soup(html, 'html.parser')\n",
    "    return html_soup.select_one(target)"
   ]
  },
  {
   "cell_type": "code",
   "execution_count": null,
   "metadata": {},
   "outputs": [],
   "source": [
    "# URL of first page to be scraped\n",
    "url = 'https://redplanetscience.com/'\n",
    "slide_elem = retrievehtml(url, 'div.list_text')"
   ]
  },
  {
   "cell_type": "code",
   "execution_count": null,
   "metadata": {},
   "outputs": [],
   "source": [
    "news_title = slide_elem.find('div', class_='content_title').get_text()\n",
    "print(news_title)\n",
    "news_p = slide_elem.find('div', class_='article_teaser_body').get_text()\n",
    "print(news_p)"
   ]
  },
  {
   "cell_type": "code",
   "execution_count": null,
   "metadata": {},
   "outputs": [],
   "source": [
    "#Finding the Featured Image of the Day for https://spaceimages-mars.com\n",
    "url2 = 'https://spaceimages-mars.com'\n",
    "mars_pic_elem = retrievehtml(url2, 'div.header')\n",
    "img = mars_pic_elem.find('img', class_='headerimage fade-in')\n",
    "featured_image_url=(f\"{url2}/{img['src']}\")\n",
    "print(featured_image_url)"
   ]
  },
  {
   "cell_type": "code",
   "execution_count": null,
   "metadata": {},
   "outputs": [],
   "source": [
    "#Get the URL of the full images from Marshemispheres.com\n",
    "url3 = 'https://marshemispheres.com/'\n",
    "astropedia_elem = retrievehtml(url3, 'div.result-list')\n",
    "products = astropedia_elem.find_all('a', class_='itemLink')\n",
    "subpages = []\n",
    "for product in products:\n",
    "    productURL = f\"{url3}{product['href']}\"\n",
    "    if (productURL not in subpages):\n",
    "        subpages.append(productURL)\n",
    "subpages"
   ]
  },
  {
   "cell_type": "code",
   "execution_count": null,
   "metadata": {},
   "outputs": [],
   "source": [
    "hemispheres = []\n",
    "for page in subpages:\n",
    "    hspage = retrievehtml(page,'div.cover')\n",
    "    pagetitle = hspage.h2.get_text()\n",
    "    hspage = retrievehtml(page,'div.container')\n",
    "    imgurl = hspage.find('img', class_=\"wide-image\")['src']\n",
    "    hemispheres.append({\"Title\": pagetitle ,\"Image URL\" : imgurl})\n",
    "hemispheres"
   ]
  },
  {
   "cell_type": "code",
   "execution_count": null,
   "metadata": {},
   "outputs": [],
   "source": []
  }
 ],
 "metadata": {
  "kernelspec": {
   "display_name": "Python 3",
   "language": "python",
   "name": "python3"
  },
  "language_info": {
   "codemirror_mode": {
    "name": "ipython",
    "version": 3
   },
   "file_extension": ".py",
   "mimetype": "text/x-python",
   "name": "python",
   "nbconvert_exporter": "python",
   "pygments_lexer": "ipython3",
   "version": "3.6.10"
  }
 },
 "nbformat": 4,
 "nbformat_minor": 4
}
